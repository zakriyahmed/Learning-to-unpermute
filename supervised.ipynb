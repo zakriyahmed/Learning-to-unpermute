{
 "cells": [
  {
   "cell_type": "code",
   "execution_count": 1,
   "id": "f39a3dc1",
   "metadata": {},
   "outputs": [],
   "source": [
    "%load_ext autoreload\n",
    "%autoreload 2\n",
    "\n",
    "import numpy as np\n",
    "import permutation as pm\n",
    "import matplotlib.pyplot as plt\n",
    "import torch\n",
    "import torch.nn as nn\n",
    "import torch.optim as optim\n",
    "import time"
   ]
  },
  {
   "cell_type": "markdown",
   "id": "e2f1a24e",
   "metadata": {},
   "source": [
    "### Model\n",
    "\n",
    "We will use the same model with different input and output shapes for differnet datasets."
   ]
  },
  {
   "cell_type": "code",
   "execution_count": 2,
   "id": "2ccddccd",
   "metadata": {},
   "outputs": [],
   "source": [
    "class MLP(nn.Module):\n",
    "    def __init__(self,r,c):\n",
    "        super(MLP,self).__init__()\n",
    "        self.r =r\n",
    "        self.c=c\n",
    "        self.layer_1 = nn.Linear(self.r*self.c,self.r*self.c,bias=False)\n",
    "        #self.relu = nn.ReLU()\n",
    "\n",
    "    def forward(self, input):\n",
    "        out = self.layer_1(input)\n",
    "\n",
    "        return out"
   ]
  },
  {
   "cell_type": "markdown",
   "id": "64ac91c6",
   "metadata": {},
   "source": [
    "## Learning to UnPermute MNIST Images"
   ]
  },
  {
   "cell_type": "code",
   "execution_count": 3,
   "id": "4f41518f",
   "metadata": {},
   "outputs": [],
   "source": [
    "#rows and column\n",
    "r,c =28,28\n",
    "# Initialize the permutation matrix \n",
    "p_m = pm.Create(r,c)\n",
    "\n",
    "# Lets load the data set from script\n",
    "\n",
    "OriginalTrain, OriginalTest, PermutedTrain, PermutedTest, _,_ = p_m.MNIST()\n",
    "\n",
    "# Normalize the images by dividing them 255\n",
    "\n",
    "OriginalTrain, OriginalTest, PermutedTrain, PermutedTest = OriginalTrain/255, OriginalTest/255, PermutedTrain/255, PermutedTest/255\n",
    "\n",
    "if torch.cuda.is_available:\n",
    "    OriginalTrain, OriginalTest = OriginalTrain.cuda(), OriginalTest.cuda()\n",
    "    PermutedTrain, PermutedTest  = PermutedTrain.cuda(), PermutedTest.cuda()"
   ]
  },
  {
   "cell_type": "code",
   "execution_count": 4,
   "id": "8dbbcff0",
   "metadata": {},
   "outputs": [],
   "source": [
    "# Initialize the model optimizer and loss\n",
    "\n",
    "mnistModel = MLP(r,c)\n",
    "#initialize weights from all 1\n",
    "mnistModel.layer_1.weight.data = torch.ones((r*c, r*c)).cuda()\n",
    "if torch.cuda.is_available:\n",
    "    mnistModel = mnistModel.cuda()\n",
    "\n",
    "\n",
    "loss = nn.MSELoss()\n",
    "\n",
    "optimizer = optim.SGD(mnistModel.parameters(),lr=0.001)\n",
    "\n",
    "#store loss for each iteration in a list\n",
    "loss_history = []"
   ]
  },
  {
   "cell_type": "code",
   "execution_count": 5,
   "id": "7b237de2",
   "metadata": {},
   "outputs": [
    {
     "name": "stdout",
     "output_type": "stream",
     "text": [
      " Epoch : 0 Loss 1085.885970059318 Time : 0.5475087285041809 min \n",
      " Epoch : 1 Loss 569.2742948224259 Time : 1.1518274545669556 min \n",
      " Epoch : 2 Loss 390.60222386692703 Time : 1.7523231625556945 min \n",
      " Epoch : 3 Loss 299.00922461504484 Time : 2.3189639488856 min \n",
      " Epoch : 4 Loss 243.0460960636252 Time : 2.879515786965688 min \n"
     ]
    }
   ],
   "source": [
    "epochs = 5\n",
    "batch_size = 1\n",
    "tb = time.time()\n",
    "for epoch in range(epochs):\n",
    "    # to shuffle the images in each epoch\n",
    "    index = np.random.permutation(OriginalTrain.shape[0])\n",
    "    \n",
    "    for i in range(len(index)):\n",
    "        # inp to model\n",
    "        inp = PermutedTrain[ [index[i*batch_size : (i*batch_size)+batch_size]] ].flatten(start_dim=1)\n",
    "        \n",
    "        output = mnistModel.forward(inp)\n",
    "        \n",
    "        l = loss(output, OriginalTrain[ [index[i*batch_size : (i*batch_size)+batch_size]] ].flatten(start_dim=1) )\n",
    "        #print(l.item())\n",
    "        loss_history.append(l.item())\n",
    "        \n",
    "        optimizer.zero_grad()\n",
    "        l.backward()\n",
    "        optimizer.step()\n",
    "        \n",
    "    print(f\" Epoch : {epoch} Loss {np.sum(loss_history)/len(loss_history)} Time : {(time.time()-tb)/60} min \")\n",
    "        "
   ]
  },
  {
   "cell_type": "code",
   "execution_count": 6,
   "id": "8180e69b",
   "metadata": {},
   "outputs": [
    {
     "data": {
      "text/plain": [
       "[<matplotlib.lines.Line2D at 0x7f3c14627e50>]"
      ]
     },
     "execution_count": 6,
     "metadata": {},
     "output_type": "execute_result"
    },
    {
     "data": {
      "image/png": "[encoded data removed]",
      "text/plain": [
       "<Figure size 640x480 with 1 Axes>"
      ]
     },
     "metadata": {},
     "output_type": "display_data"
    }
   ],
   "source": [
    "plt.plot(loss_history)\n"
   ]
  },
  {
   "cell_type": "code",
   "execution_count": 7,
   "id": "663acc07",
   "metadata": {
    "scrolled": true
   },
   "outputs": [
    {
     "data": {
      "text/plain": [
       "(-0.5, 27.5, 27.5, -0.5)"
      ]
     },
     "execution_count": 7,
     "metadata": {},
     "output_type": "execute_result"
    },
    {
     "data": {
      "image/png": "[encoded data removed]",
      "text/plain": [
       "<Figure size 640x480 with 3 Axes>"
      ]
     },
     "metadata": {},
     "output_type": "display_data"
    }
   ],
   "source": [
    "number = 1001\n",
    "plt.subplot(1,3,1)\n",
    "plt.imshow(OriginalTest[number].detach().cpu().numpy())\n",
    "plt.axis('off')\n",
    "plt.subplot(1,3,2)\n",
    "plt.imshow(PermutedTest[number].detach().cpu().numpy())\n",
    "plt.axis('off')\n",
    "plt.subplot(1,3,3)\n",
    "plt.imshow(mnistModel.forward(PermutedTest[number].flatten()).reshape(r,c).detach().cpu().numpy() )\n",
    "plt.axis('off')"
   ]
  },
  {
   "cell_type": "markdown",
   "id": "ecb23da3",
   "metadata": {},
   "source": [
    "## Learning to UnPermute FashionMNIST Images"
   ]
  },
  {
   "cell_type": "code",
   "execution_count": 8,
   "id": "9b3b0156",
   "metadata": {},
   "outputs": [],
   "source": [
    "# Load the data\n",
    "\n",
    "\n",
    "# Lets load the data set from script\n",
    "\n",
    "OriginalTrainF, OriginalTestF, PermutedTrainF, PermutedTestF, _,_ = p_m.FashionMNIST()\n",
    "\n",
    "# Normalize the images by dividing them 255\n",
    "\n",
    "OriginalTrainF, OriginalTestF, PermutedTrainF, PermutedTestF = OriginalTrainF/255, OriginalTestF/255, PermutedTrainF/255, PermutedTestF/255\n",
    "\n",
    "if torch.cuda.is_available:\n",
    "    OriginalTrainF, OriginalTestF = OriginalTrainF.cuda(), OriginalTestF.cuda()\n",
    "    PermutedTrainF, PermutedTestF  = PermutedTrainF.cuda(), PermutedTestF.cuda()"
   ]
  },
  {
   "cell_type": "markdown",
   "id": "e42f3724",
   "metadata": {},
   "source": [
    "### Lets try the model trained for mnist"
   ]
  },
  {
   "cell_type": "code",
   "execution_count": 9,
   "id": "f77ff22c",
   "metadata": {},
   "outputs": [
    {
     "data": {
      "text/plain": [
       "(-0.5, 27.5, 27.5, -0.5)"
      ]
     },
     "execution_count": 9,
     "metadata": {},
     "output_type": "execute_result"
    },
    {
     "data": {
      "image/png": "[encoded data removed]",
      "text/plain": [
       "<Figure size 640x480 with 3 Axes>"
      ]
     },
     "metadata": {},
     "output_type": "display_data"
    }
   ],
   "source": [
    "plt.subplot(1,3,1)\n",
    "plt.imshow(OriginalTestF[10].detach().cpu().numpy())\n",
    "plt.axis('off')\n",
    "plt.subplot(1,3,2)\n",
    "plt.imshow(PermutedTestF[10].detach().cpu().numpy())\n",
    "plt.axis('off')\n",
    "plt.subplot(1,3,3)\n",
    "plt.imshow(mnistModel.forward(PermutedTestF[0].flatten()).reshape(r,c).detach().cpu().numpy() )\n",
    "plt.axis('off')"
   ]
  },
  {
   "cell_type": "markdown",
   "id": "5b52bc1c",
   "metadata": {},
   "source": [
    "It does not work as expected. But if A model is trained on FashionMNIST it will work for mnist as well. Reason for this is mnist images are low in sparsity (mostly pixel values are 0, even shuffling them will result in zeros on other place, but now was it shuffled or not), so model can not learn to unpermute."
   ]
  },
  {
   "cell_type": "code",
   "execution_count": 10,
   "id": "cebd5c0b",
   "metadata": {},
   "outputs": [],
   "source": [
    "# Initialize the model optimizer and loss\n",
    "\n",
    "fmnistModel = MLP(r,c)\n",
    "#initialize weights from all 1\n",
    "fmnistModel.layer_1.weight.data = torch.ones((r*c, r*c)).cuda()\n",
    "if torch.cuda.is_available:\n",
    "    fmnistModel = fmnistModel.cuda()\n",
    "\n",
    "\n",
    "lossf = nn.MSELoss()\n",
    "\n",
    "optimizerf = optim.SGD(fmnistModel.parameters(),lr=0.001)\n",
    "\n",
    "#store loss for each iteration in a list\n",
    "loss_historyf = []"
   ]
  },
  {
   "cell_type": "code",
   "execution_count": 11,
   "id": "1f7a124c",
   "metadata": {},
   "outputs": [
    {
     "name": "stdout",
     "output_type": "stream",
     "text": [
      " Epoch : 0 Loss 1810.3829355452986 Time : 0.5414487640062968 min \n",
      " Epoch : 1 Loss 927.3496229908525 Time : 1.0825263261795044 min \n",
      " Epoch : 2 Loss 628.2906804425127 Time : 1.6208510716756186 min \n",
      " Epoch : 3 Loss 477.47788685468464 Time : 2.158494544029236 min \n",
      " Epoch : 4 Loss 386.2773905942072 Time : 2.6973408579826357 min \n",
      " Epoch : 5 Loss 325.03692278570117 Time : 3.2440081000328065 min \n",
      " Epoch : 6 Loss 281.0012702119113 Time : 3.7821517984072366 min \n",
      " Epoch : 7 Loss 247.7686188783766 Time : 4.321780622005463 min \n",
      " Epoch : 8 Loss 221.7686097522604 Time : 4.861084524790446 min \n",
      " Epoch : 9 Loss 200.85333847965342 Time : 5.400252878665924 min \n",
      " Epoch : 10 Loss 183.65020673069105 Time : 5.940811002254486 min \n",
      " Epoch : 11 Loss 169.24220889852418 Time : 6.481523287296295 min \n",
      " Epoch : 12 Loss 156.99218435782828 Time : 7.023508067925771 min \n",
      " Epoch : 13 Loss 146.44402629394094 Time : 7.567670226097107 min \n",
      " Epoch : 14 Loss 137.26188192228602 Time : 8.111489101250966 min \n",
      " Epoch : 15 Loss 129.1938585429399 Time : 8.662097044785817 min \n",
      " Epoch : 16 Loss 122.04628625368697 Time : 9.215393308798472 min \n",
      " Epoch : 17 Loss 115.66822142863906 Time : 9.77016255458196 min \n",
      " Epoch : 18 Loss 109.94043978700309 Time : 10.317627656459809 min \n",
      " Epoch : 19 Loss 104.76702977647363 Time : 10.862979861100515 min \n"
     ]
    }
   ],
   "source": [
    "epochs = 20\n",
    "batch_size = 1\n",
    "tb = time.time()\n",
    "for epoch in range(epochs):\n",
    "    # to shuffle the images in each epoch\n",
    "    index = np.random.permutation(OriginalTrainF.shape[0])\n",
    "    \n",
    "    for i in range(len(index)):\n",
    "        # inp to model\n",
    "        inp = PermutedTrainF[ [index[i*batch_size : (i*batch_size)+batch_size]] ].flatten(start_dim=1)\n",
    "        \n",
    "        output = fmnistModel.forward(inp)\n",
    "        \n",
    "        l = lossf(output, OriginalTrainF[ [index[i*batch_size : (i*batch_size)+batch_size]] ].flatten(start_dim=1) )\n",
    "        #print(l.item())\n",
    "        loss_historyf.append(l.item())\n",
    "        \n",
    "        optimizerf.zero_grad()\n",
    "        l.backward()\n",
    "        optimizerf.step()\n",
    "        \n",
    "    print(f\" Epoch : {epoch} Loss {np.sum(loss_historyf)/len(loss_historyf)} Time : {(time.time()-tb)/60} min \")\n",
    "        "
   ]
  },
  {
   "cell_type": "code",
   "execution_count": 12,
   "id": "af37a92b",
   "metadata": {},
   "outputs": [
    {
     "data": {
      "text/plain": [
       "[<matplotlib.lines.Line2D at 0x7f3bdd600c50>]"
      ]
     },
     "execution_count": 12,
     "metadata": {},
     "output_type": "execute_result"
    },
    {
     "data": {
      "image/png": "[encoded data removed]",
      "text/plain": [
       "<Figure size 640x480 with 1 Axes>"
      ]
     },
     "metadata": {},
     "output_type": "display_data"
    }
   ],
   "source": [
    "plt.plot(loss_historyf)"
   ]
  },
  {
   "cell_type": "code",
   "execution_count": 13,
   "id": "7eeee647",
   "metadata": {},
   "outputs": [
    {
     "data": {
      "text/plain": [
       "(-0.5, 27.5, 27.5, -0.5)"
      ]
     },
     "execution_count": 13,
     "metadata": {},
     "output_type": "execute_result"
    },
    {
     "data": {
      "image/png": "[encoded data removed]",
      "text/plain": [
       "<Figure size 640x480 with 3 Axes>"
      ]
     },
     "metadata": {},
     "output_type": "display_data"
    }
   ],
   "source": [
    "number = 0\n",
    "plt.subplot(1,3,1)\n",
    "plt.imshow(OriginalTestF[number].detach().cpu().numpy())\n",
    "plt.axis('off')\n",
    "plt.subplot(1,3,2)\n",
    "plt.imshow(PermutedTestF[number].detach().cpu().numpy())\n",
    "plt.axis('off')\n",
    "plt.subplot(1,3,3)\n",
    "plt.imshow(fmnistModel.forward(PermutedTestF[number].flatten()).reshape(r,c).detach().cpu().numpy() )\n",
    "plt.axis('off')"
   ]
  },
  {
   "cell_type": "markdown",
   "id": "52ded5bf",
   "metadata": {},
   "source": [
    "### Now lets try fashionMNIST model for MNIST"
   ]
  },
  {
   "cell_type": "code",
   "execution_count": 14,
   "id": "fe1fe76e",
   "metadata": {},
   "outputs": [
    {
     "data": {
      "text/plain": [
       "(-0.5, 27.5, 27.5, -0.5)"
      ]
     },
     "execution_count": 14,
     "metadata": {},
     "output_type": "execute_result"
    },
    {
     "data": {
      "image/png": "[encoded data removed]",
      "text/plain": [
       "<Figure size 640x480 with 3 Axes>"
      ]
     },
     "metadata": {},
     "output_type": "display_data"
    }
   ],
   "source": [
    "number = 1001\n",
    "plt.subplot(1,3,1)\n",
    "plt.imshow(OriginalTest[number].detach().cpu().numpy())\n",
    "plt.axis('off')\n",
    "plt.subplot(1,3,2)\n",
    "plt.imshow(PermutedTest[number].detach().cpu().numpy())\n",
    "plt.axis('off')\n",
    "plt.subplot(1,3,3)\n",
    "plt.imshow(fmnistModel.forward(PermutedTest[number].flatten()).reshape(r,c).detach().cpu().numpy() )\n",
    "plt.axis('off')"
   ]
  },
  {
   "cell_type": "markdown",
   "id": "11912efd",
   "metadata": {},
   "source": [
    "## Learning to UnPermute CIFAR10 grayscale Images"
   ]
  },
  {
   "cell_type": "code",
   "execution_count": 15,
   "id": "bb46b068",
   "metadata": {},
   "outputs": [
    {
     "name": "stdout",
     "output_type": "stream",
     "text": [
      "Files already downloaded and verified\n",
      "Files already downloaded and verified\n"
     ]
    }
   ],
   "source": [
    "# Load the data\n",
    "\n",
    "\n",
    "\n",
    "# Lets load the data set from script\n",
    "\n",
    "OriginalTrainC, OriginalTestC, PermutedTrainC, PermutedTestC, _,_ = p_m.CIFAR10()\n",
    "\n",
    "# Normalize the images by dividing them 255\n",
    "\n",
    "#OriginalTrainC, OriginalTestC, PermutedTrainC, PermutedTestC = OriginalTrainC/255, OriginalTestC/255, PermutedTrainC/255, PermutedTestC/255\n",
    "\n",
    "if torch.cuda.is_available:\n",
    "    OriginalTrainC, OriginalTestC = OriginalTrainC.cuda(), OriginalTestC.cuda()\n",
    "    PermutedTrainC, PermutedTestC  = PermutedTrainC.cuda(), PermutedTestC.cuda()"
   ]
  },
  {
   "cell_type": "markdown",
   "id": "c1c0eddf",
   "metadata": {},
   "source": [
    "### Lets try fashionMnist model for cifar10 images"
   ]
  },
  {
   "cell_type": "code",
   "execution_count": 16,
   "id": "c66d254d",
   "metadata": {},
   "outputs": [
    {
     "data": {
      "text/plain": [
       "(-0.5, 27.5, 27.5, -0.5)"
      ]
     },
     "execution_count": 16,
     "metadata": {},
     "output_type": "execute_result"
    },
    {
     "data": {
      "image/png": "[encoded data removed]",
      "text/plain": [
       "<Figure size 640x480 with 3 Axes>"
      ]
     },
     "metadata": {},
     "output_type": "display_data"
    }
   ],
   "source": [
    "number = 1001\n",
    "plt.subplot(1,3,1)\n",
    "plt.imshow(OriginalTestC[number].detach().cpu().numpy())\n",
    "plt.axis('off')\n",
    "plt.subplot(1,3,2)\n",
    "plt.imshow(PermutedTestC[number].detach().cpu().numpy())\n",
    "plt.axis('off')\n",
    "plt.subplot(1,3,3)\n",
    "plt.imshow(fmnistModel.forward(PermutedTestC[number].flatten()).reshape(r,c).detach().cpu().numpy() )\n",
    "plt.axis('off')"
   ]
  },
  {
   "cell_type": "markdown",
   "id": "afb9e3dc",
   "metadata": {},
   "source": []
  },
  {
   "cell_type": "code",
   "execution_count": 17,
   "id": "4f595e5b",
   "metadata": {},
   "outputs": [],
   "source": [
    "# Initialize the model optimizer and loss\n",
    "\n",
    "cifarModel = MLP(r,c)\n",
    "#initialize weights from all 1\n",
    "cifarModel.layer_1.weight.data = torch.ones((r*c, r*c)).cuda()\n",
    "if torch.cuda.is_available:\n",
    "    cifarModel = cifarModel.cuda()\n",
    "\n",
    "\n",
    "lossc = nn.MSELoss()\n",
    "\n",
    "optimizerc = optim.SGD(cifarModel.parameters(),lr=0.01)\n",
    "\n",
    "#store loss for each iteration in a list\n",
    "loss_historyc = []"
   ]
  },
  {
   "cell_type": "code",
   "execution_count": 18,
   "id": "e290ed1b",
   "metadata": {},
   "outputs": [
    {
     "name": "stdout",
     "output_type": "stream",
     "text": [
      " Epoch : 0 Loss 307.52218930106585 Time : 0.4583491245905558 min \n",
      " Epoch : 1 Loss 153.77268521534668 Time : 0.9253832379976908 min \n",
      " Epoch : 2 Loss 102.51935625476845 Time : 1.3900471727053325 min \n",
      " Epoch : 3 Loss 76.8917900637842 Time : 1.8524128913879394 min \n",
      " Epoch : 4 Loss 61.514878113504544 Time : 2.313640077908834 min \n",
      " Epoch : 5 Loss 51.263411684882584 Time : 2.7723588983217877 min \n",
      " Epoch : 6 Loss 43.94082216843791 Time : 3.237088469664256 min \n",
      " Epoch : 7 Loss 38.44880634049698 Time : 3.7189026912053427 min \n",
      " Epoch : 8 Loss 34.17718754535637 Time : 4.182506680488586 min \n",
      " Epoch : 9 Loss 30.759855674955546 Time : 4.643106361230214 min \n"
     ]
    }
   ],
   "source": [
    "epochs = 10\n",
    "batch_size = 1\n",
    "tb = time.time()\n",
    "for epoch in range(epochs):\n",
    "    # to shuffle the images in each epoch\n",
    "    #lets just use 5000 or 50000 images\n",
    "    index = np.random.permutation(50000)\n",
    "    \n",
    "    for i in range(len(index)):\n",
    "        # inp to model\n",
    "        inp = PermutedTrainC[ [index[i*batch_size : (i*batch_size)+batch_size]] ].flatten(start_dim=1)\n",
    "        \n",
    "        output = cifarModel.forward(inp)\n",
    "        \n",
    "        l = lossc(output, OriginalTrainC[ [index[i*batch_size : (i*batch_size)+batch_size]] ].flatten(start_dim=1) )\n",
    "        #print(l.item())\n",
    "        loss_historyc.append(l.item())\n",
    "        \n",
    "        optimizerc.zero_grad()\n",
    "        l.backward()\n",
    "        optimizerc.step()\n",
    "        \n",
    "    print(f\" Epoch : {epoch} Loss {np.sum(loss_historyc)/len(loss_historyc)} Time : {(time.time()-tb)/60} min \")\n",
    "  "
   ]
  },
  {
   "cell_type": "code",
   "execution_count": 19,
   "id": "d55553e9",
   "metadata": {},
   "outputs": [
    {
     "data": {
      "text/plain": [
       "[<matplotlib.lines.Line2D at 0x7f3bdc353cd0>]"
      ]
     },
     "execution_count": 19,
     "metadata": {},
     "output_type": "execute_result"
    },
    {
     "data": {
      "image/png": "[encoded data removed]",
      "text/plain": [
       "<Figure size 640x480 with 1 Axes>"
      ]
     },
     "metadata": {},
     "output_type": "display_data"
    }
   ],
   "source": [
    "plt.plot(loss_historyc)"
   ]
  },
  {
   "cell_type": "code",
   "execution_count": 20,
   "id": "a9d225eb",
   "metadata": {},
   "outputs": [
    {
     "data": {
      "text/plain": [
       "(-0.5, 27.5, 27.5, -0.5)"
      ]
     },
     "execution_count": 20,
     "metadata": {},
     "output_type": "execute_result"
    },
    {
     "data": {
      "image/png": "[encoded data removed]",
      "text/plain": [
       "<Figure size 640x480 with 3 Axes>"
      ]
     },
     "metadata": {},
     "output_type": "display_data"
    }
   ],
   "source": [
    "number = 2018\n",
    "plt.subplot(1,3,1)\n",
    "plt.imshow(OriginalTestC[number].detach().cpu().numpy())\n",
    "plt.axis('off')\n",
    "plt.subplot(1,3,2)\n",
    "plt.imshow(PermutedTestC[number].detach().cpu().numpy())\n",
    "plt.axis('off')\n",
    "plt.subplot(1,3,3)\n",
    "plt.imshow(cifarModel.forward(PermutedTestC[number].flatten()).reshape(r,c).detach().cpu().numpy() )\n",
    "plt.axis('off')"
   ]
  },
  {
   "cell_type": "markdown",
   "id": "e8b61c6d",
   "metadata": {},
   "source": [
    "### Lets try MNIST and FashionMNIST with CIFAR model"
   ]
  },
  {
   "cell_type": "code",
   "execution_count": 21,
   "id": "c60f4cef",
   "metadata": {},
   "outputs": [
    {
     "data": {
      "text/plain": [
       "(-0.5, 27.5, 27.5, -0.5)"
      ]
     },
     "execution_count": 21,
     "metadata": {},
     "output_type": "execute_result"
    },
    {
     "data": {
      "image/png": "[encoded data removed]",
      "text/plain": [
       "<Figure size 640x480 with 3 Axes>"
      ]
     },
     "metadata": {},
     "output_type": "display_data"
    }
   ],
   "source": [
    "number = 100\n",
    "plt.subplot(1,3,1)\n",
    "plt.imshow(OriginalTest[number].detach().cpu().numpy())\n",
    "plt.axis('off')\n",
    "plt.subplot(1,3,2)\n",
    "plt.imshow(PermutedTest[number].detach().cpu().numpy())\n",
    "plt.axis('off')\n",
    "plt.subplot(1,3,3)\n",
    "plt.imshow(cifarModel.forward(PermutedTest[number].flatten()*255).reshape(r,c).detach().cpu().numpy() )\n",
    "plt.axis('off')"
   ]
  },
  {
   "cell_type": "code",
   "execution_count": 22,
   "id": "5ca0e014",
   "metadata": {},
   "outputs": [
    {
     "data": {
      "text/plain": [
       "(-0.5, 27.5, 27.5, -0.5)"
      ]
     },
     "execution_count": 22,
     "metadata": {},
     "output_type": "execute_result"
    },
    {
     "data": {
      "image/png": "[encoded data removed]",
      "text/plain": [
       "<Figure size 640x480 with 3 Axes>"
      ]
     },
     "metadata": {},
     "output_type": "display_data"
    }
   ],
   "source": [
    "number = 250\n",
    "plt.subplot(1,3,1)\n",
    "plt.imshow(OriginalTestF[number].detach().cpu().numpy())\n",
    "plt.axis('off')\n",
    "plt.subplot(1,3,2)\n",
    "plt.imshow(PermutedTestF[number].detach().cpu().numpy())\n",
    "plt.axis('off')\n",
    "plt.subplot(1,3,3)\n",
    "plt.imshow(cifarModel.forward(PermutedTestF[number].flatten()*255).reshape(r,c).detach().cpu().numpy() )\n",
    "plt.axis('off')"
   ]
  },
  {
   "cell_type": "code",
   "execution_count": null,
   "id": "fd305ecc",
   "metadata": {},
   "outputs": [],
   "source": []
  },
  {
   "cell_type": "code",
   "execution_count": null,
   "id": "d570a62d",
   "metadata": {},
   "outputs": [],
   "source": []
  }
 ],
 "metadata": {
  "kernelspec": {
   "display_name": "Python 3 (ipykernel)",
   "language": "python",
   "name": "python3"
  },
  "language_info": {
   "codemirror_mode": {
    "name": "ipython",
    "version": 3
   },
   "file_extension": ".py",
   "mimetype": "text/x-python",
   "name": "python",
   "nbconvert_exporter": "python",
   "pygments_lexer": "ipython3",
   "version": "3.7.5"
  }
 },
 "nbformat": 4,
 "nbformat_minor": 5
}
