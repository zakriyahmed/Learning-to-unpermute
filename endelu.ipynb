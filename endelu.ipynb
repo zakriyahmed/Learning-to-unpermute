{
  "nbformat": 4,
  "nbformat_minor": 0,
  "metadata": {
    "colab": {
      "provenance": []
    },
    "kernelspec": {
      "name": "python3",
      "display_name": "Python 3"
    },
    "language_info": {
      "name": "python"
    },
    "accelerator": "GPU"
  },
  "cells": [
    {
      "cell_type": "code",
      "execution_count": 1,
      "metadata": {
        "id": "uXg8tBRJiDL0"
      },
      "outputs": [],
      "source": [
        "import numpy as np\n",
        "import cv2\n",
        "import matplotlib.pyplot as plt\n",
        "import torch\n",
        "from IPython import display\n",
        "from IPython.core.display import clear_output\n",
        "import torch.nn as nn\n",
        "import torch.optim as optim\n",
        "import torchvision\n",
        "import torchvision.transforms as transforms\n",
        "from collections import OrderedDict"
      ]
    },
    {
      "cell_type": "code",
      "source": [
        "def pm(size,perm_array):\n",
        "    r,c = size\n",
        "    out = np.zeros((r,c))\n",
        "    if r!=perm_array.shape[0]:\n",
        "        raise ValueError('perm_array is not of same size as required Permutation matrix. i.e. ',r,' != ',perm_array.shape[0])\n",
        "    else:\n",
        "        for i in range(r):\n",
        "            out[i,perm_array[i]] = 1    # for each row and coulmn have one 1. column number is dictate by randomly shuffled list\n",
        "    reverse = np.linalg.inv(out)\n",
        "    return out,reverse"
      ],
      "metadata": {
        "id": "YymjqevQim1R"
      },
      "execution_count": 2,
      "outputs": []
    },
    {
      "cell_type": "code",
      "source": [
        "r,c = 32,32\n",
        "m1 = np.arange(0,r,1,np.int8)       # list having numbers from 0 to 31\n",
        "m1r = np.random.permutation(m1)      # randomly shuffle the above list. no number is repeated\n",
        "#np.savetxt('per_mat_arr.csv',m1r)\n",
        "#m1rt = np.loadtxt('per_mat_arr.csv')\n",
        "#m1rt=np.int16(m1rt)\n",
        "p_m,inv = pm((r,c),m1r) \n",
        "p_m_3c = np.reshape(np.array((p_m,p_m,p_m)),(r,c,3))\n",
        "p_m_3c.shape\n"
      ],
      "metadata": {
        "colab": {
          "base_uri": "https://localhost:8080/"
        },
        "id": "NqWVpWugipwv",
        "outputId": "dd640add-a481-4b0e-f1b5-f3b0ca9bb8d4"
      },
      "execution_count": 3,
      "outputs": [
        {
          "output_type": "execute_result",
          "data": {
            "text/plain": [
              "(32, 32, 3)"
            ]
          },
          "metadata": {},
          "execution_count": 3
        }
      ]
    },
    {
      "cell_type": "code",
      "source": [
        "trainTransform = torchvision.transforms.Compose([torchvision.transforms.Grayscale(num_output_channels=1),\n",
        "                                    torchvision.transforms.ToTensor(), \n",
        "                                    torchvision.transforms.Normalize((0.5, 0.5, 0.5), (0.5, 0.5, 0.5))])\n",
        "trainset = torchvision.datasets.CIFAR10(root='./data', train=True,download=True, transform=trainTransform)\n",
        "testset = torchvision.datasets.CIFAR10(root='./data', train=False,download=True, transform=trainTransform)\n",
        "datag = 0.299*trainset.data[:,:,:,0] + 0.587*trainset.data[:,:,:,1] + 0.114*trainset.data[:,:,:,2]\n",
        "testg = 0.299*testset.data[:,:,:,0] + 0.587*testset.data[:,:,:,1] + 0.114*testset.data[:,:,:,2]\n",
        "labels = datag.copy()\n",
        "tlabels = testg.copy()"
      ],
      "metadata": {
        "colab": {
          "base_uri": "https://localhost:8080/"
        },
        "id": "wvE43fV9iyPd",
        "outputId": "b166a4bd-074b-4e8b-8daa-f71ff3e9bd5e"
      },
      "execution_count": 7,
      "outputs": [
        {
          "output_type": "stream",
          "name": "stdout",
          "text": [
            "Files already downloaded and verified\n",
            "Files already downloaded and verified\n"
          ]
        }
      ]
    },
    {
      "cell_type": "code",
      "source": [
        "print(trainset.data.shape)\n",
        "print(labels[0].shape)\n",
        "#print(labels[0]/255)"
      ],
      "metadata": {
        "colab": {
          "base_uri": "https://localhost:8080/"
        },
        "id": "5fIGNHHFjcce",
        "outputId": "5712dbc3-ad23-4d00-80e0-66eb87693be1"
      },
      "execution_count": 6,
      "outputs": [
        {
          "output_type": "stream",
          "name": "stdout",
          "text": [
            "(50000, 32, 32, 3)\n",
            "(32, 32, 3)\n"
          ]
        }
      ]
    },
    {
      "cell_type": "code",
      "source": [
        "pmt = torch.tensor(p_m).float()\n",
        "#print(pmt,trainset.data[0])\n",
        "for i in range(50000):\n",
        "  datag[i] = p_m @ (datag[i]@p_m)\n",
        "for i in range(10000):\n",
        "  testg[i] = p_m @ (testg[i]@p_m)"
      ],
      "metadata": {
        "id": "WPnllCwHkC6d"
      },
      "execution_count": 8,
      "outputs": []
    },
    {
      "cell_type": "code",
      "source": [
        "plt.figure(figsize=(10,10))\n",
        "plt.subplot(4,1,1)\n",
        "plt.imshow(datag[0],cmap='gray')\n",
        "plt.subplot(4,1,2)\n",
        "plt.imshow(labels[0],cmap='gray')"
      ],
      "metadata": {
        "colab": {
          "base_uri": "https://localhost:8080/",
          "height": 327
        },
        "id": "Qk39UcPrsDr6",
        "outputId": "a87d184a-fd24-48bc-f60f-122480452d70"
      },
      "execution_count": 9,
      "outputs": [
        {
          "output_type": "execute_result",
          "data": {
            "text/plain": [
              "<matplotlib.image.AxesImage at 0x7ffb310e3d10>"
            ]
          },
          "metadata": {},
          "execution_count": 9
        },
        {
          "output_type": "display_data",
          "data": {
            "text/plain": [
              "<Figure size 720x720 with 2 Axes>"
            ],
            "image/png": "[encoded data removed]"
          },
          "metadata": {
            "needs_background": "light"
          }
        }
      ]
    },
    {
      "cell_type": "code",
      "source": [
        "datag = torch.tensor((datag))\n",
        "datag = torch.reshape(datag,(50000,1,1,32,32)).float()\n",
        "trainset.targets = torch.tensor((trainset.targets))\n",
        "trainset.targets = torch.reshape(trainset.targets,(50000,1))\n",
        "\n",
        "testg = torch.tensor((testg ))\n",
        "testg  = torch.reshape(testg ,(10000,1,1,32,32)).float()\n",
        "testset.targets = torch.tensor((testset.targets))\n",
        "testset.targets = torch.reshape(testset.targets,(10000,1))\n",
        "\n",
        "labels = torch.tensor((labels)).float()\n",
        "tlabels = torch.tensor((tlabels)).float()"
      ],
      "metadata": {
        "id": "dQZg1nUSvwB-"
      },
      "execution_count": 10,
      "outputs": []
    },
    {
      "cell_type": "code",
      "source": [
        "layers1 = OrderedDict()\n",
        "layers1[\"1fc\"] = nn.Linear( 1024,512,bias=True)\n",
        "layers1[\"Relufc1\"] = nn.ReLU()\n",
        "layers1[\"2fc\"] = nn.Linear(512,256,bias=True)\n",
        "layers1[\"Relufc2\"] = nn.ReLU()\n",
        "layers1[\"3fc\"] = nn.Linear( 256,128,bias=True)\n",
        "layers1[\"Relufc3\"] = nn.ReLU()\n",
        "layers1[\"4fc\"] = nn.Linear( 128,64,bias=True)\n",
        "layers1[\"Relufc4\"] = nn.ReLU()\n",
        "layers1[\"5fc\"] = nn.Linear( 64,128,bias=True)\n",
        "layers1[\"Relufc5\"] = nn.ReLU()\n",
        "layers1[\"6fc\"] = nn.Linear( 128,256,bias=True)\n",
        "layers1[\"Relufc6\"] = nn.ReLU()\n",
        "layers1[\"7fc\"] = nn.Linear( 256,512,bias=True)\n",
        "layers1[\"Relufc7\"] = nn.ReLU()\n",
        "layers1[\"8fc\"] = nn.Linear( 512,1024,bias=True)\n",
        "layers1[\"Relufc8\"] = nn.ReLU()\n",
        "decoder = nn.Sequential(layers1)\n",
        "decoder = decoder.float()\n",
        "decoder"
      ],
      "metadata": {
        "colab": {
          "base_uri": "https://localhost:8080/"
        },
        "id": "Yfd9OMvj3Dxq",
        "outputId": "7ce5ae5a-0187-41a1-ed68-67d7abf5940b"
      },
      "execution_count": 13,
      "outputs": [
        {
          "output_type": "execute_result",
          "data": {
            "text/plain": [
              "Sequential(\n",
              "  (1fc): Linear(in_features=1024, out_features=512, bias=True)\n",
              "  (Relufc1): ReLU()\n",
              "  (2fc): Linear(in_features=512, out_features=256, bias=True)\n",
              "  (Relufc2): ReLU()\n",
              "  (3fc): Linear(in_features=256, out_features=128, bias=True)\n",
              "  (Relufc3): ReLU()\n",
              "  (4fc): Linear(in_features=128, out_features=64, bias=True)\n",
              "  (Relufc4): ReLU()\n",
              "  (5fc): Linear(in_features=64, out_features=128, bias=True)\n",
              "  (Relufc5): ReLU()\n",
              "  (6fc): Linear(in_features=128, out_features=256, bias=True)\n",
              "  (Relufc6): ReLU()\n",
              "  (7fc): Linear(in_features=256, out_features=512, bias=True)\n",
              "  (Relufc7): ReLU()\n",
              "  (8fc): Linear(in_features=512, out_features=1024, bias=True)\n",
              "  (Relufc8): ReLU()\n",
              ")"
            ]
          },
          "metadata": {},
          "execution_count": 13
        }
      ]
    },
    {
      "cell_type": "code",
      "source": [
        "decoder = decoder.cuda()\n",
        "labels = labels.cuda()"
      ],
      "metadata": {
        "id": "9Scj4BvY_Ify"
      },
      "execution_count": 14,
      "outputs": []
    },
    {
      "cell_type": "code",
      "source": [
        "optimizer1 = optim.SGD(decoder.parameters(), lr=0.01)\n",
        "loss1 = nn.MSELoss()\n",
        "l_history1 = []"
      ],
      "metadata": {
        "id": "hdN2yij45HNv"
      },
      "execution_count": 30,
      "outputs": []
    },
    {
      "cell_type": "code",
      "source": [
        "datag = datag.cuda()\n",
        "trainset.targets = trainset.targets.cuda()\n",
        "labels = labels.cuda()\n",
        "testg = testg.cuda()\n",
        "testset.targets = testset.targets.cuda()\n",
        "tlabels = tlabels.cuda()"
      ],
      "metadata": {
        "id": "CvAngcECtEuC"
      },
      "execution_count": 17,
      "outputs": []
    },
    {
      "cell_type": "code",
      "source": [
        "for epoch in range(2):\n",
        "  for loop in range(50000):\n",
        "    pred1 = decoder(datag[loop].flatten()/255)\n",
        "    l1 = loss1(pred1.flatten(),labels[loop].flatten()/255) \n",
        "    optimizer1.zero_grad()\n",
        "    l1.backward()\n",
        "    optimizer1.step()\n",
        "    l_history1.append(l1.item())\n",
        "  print(epoch,':  ',np.sum(l_history1)/len(l_history1))"
      ],
      "metadata": {
        "id": "7RvaZQVG5nKd"
      },
      "execution_count": null,
      "outputs": []
    },
    {
      "cell_type": "code",
      "source": [
        "plt.plot(l_history1)"
      ],
      "metadata": {
        "colab": {
          "base_uri": "https://localhost:8080/",
          "height": 282
        },
        "id": "ovmFBC0Z6gpC",
        "outputId": "bb38cc91-bdb5-46b6-be16-dfce467b50bc"
      },
      "execution_count": 32,
      "outputs": [
        {
          "output_type": "execute_result",
          "data": {
            "text/plain": [
              "[<matplotlib.lines.Line2D at 0x7ffb2156bcd0>]"
            ]
          },
          "metadata": {},
          "execution_count": 32
        },
        {
          "output_type": "display_data",
          "data": {
            "text/plain": [
              "<Figure size 432x288 with 1 Axes>"
            ],
            "image/png": "[encoded data removed]"
          },
          "metadata": {
            "needs_background": "light"
          }
        }
      ]
    },
    {
      "cell_type": "code",
      "source": [
        "labels[0].shape"
      ],
      "metadata": {
        "colab": {
          "base_uri": "https://localhost:8080/"
        },
        "id": "HxnlgEZi5VpX",
        "outputId": "17118e78-fd1d-4991-8709-2c84c9aa521e"
      },
      "execution_count": null,
      "outputs": [
        {
          "output_type": "execute_result",
          "data": {
            "text/plain": [
              "torch.Size([32, 32, 3])"
            ]
          },
          "metadata": {},
          "execution_count": 84
        }
      ]
    },
    {
      "cell_type": "code",
      "source": [
        "plt.figure(figsize=(10,10))\n",
        "plt.subplot(4,1,1)\n",
        "plt.imshow(np.reshape(labels[1001].cpu().detach().numpy()/255,(32,32)))\n",
        "plt.subplot(4,1,2)\n",
        "plt.imshow(np.reshape(decoder(datag[1001].flatten()).cpu().detach().numpy(),(32,32))/255)\n",
        "plt.subplot(4,1,3)\n",
        "plt.imshow(tlabels[1001].cpu().detach().numpy()/255)\n",
        "plt.subplot(4,1,4)\n",
        "plt.imshow(np.reshape(decoder(testg[1001].flatten()).cpu().detach().numpy(),(32,32))/255)\n",
        "#decoder(decoder(testset.data[0].flatten())).cpu().detach().numpy()"
      ],
      "metadata": {
        "colab": {
          "base_uri": "https://localhost:8080/",
          "height": 611
        },
        "id": "dQtQZy-3oEXs",
        "outputId": "344eea5b-d1a6-4548-eaf8-5120aebfa8bd"
      },
      "execution_count": 33,
      "outputs": [
        {
          "output_type": "execute_result",
          "data": {
            "text/plain": [
              "<matplotlib.image.AxesImage at 0x7ffb20f6a890>"
            ]
          },
          "metadata": {},
          "execution_count": 33
        },
        {
          "output_type": "display_data",
          "data": {
            "text/plain": [
              "<Figure size 720x720 with 4 Axes>"
            ],
            "image/png": "[encoded data removed]"
          },
          "metadata": {
            "needs_background": "light"
          }
        }
      ]
    }
  ]
}